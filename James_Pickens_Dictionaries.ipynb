{
  "cells": [
    {
      "cell_type": "markdown",
      "metadata": {
        "id": "view-in-github",
        "colab_type": "text"
      },
      "source": [
        "<a href=\"https://colab.research.google.com/github/jrpickens/data-science-notebooks/blob/main/James_Pickens_Dictionaries.ipynb\" target=\"_parent\"><img src=\"https://colab.research.google.com/assets/colab-badge.svg\" alt=\"Open In Colab\"/></a>"
      ]
    },
    {
      "cell_type": "markdown",
      "source": [
        "James Pickens"
      ],
      "metadata": {
        "id": "q-BIA87eB-me"
      },
      "id": "q-BIA87eB-me"
    },
    {
      "cell_type": "markdown",
      "id": "ba110f51",
      "metadata": {
        "id": "ba110f51"
      },
      "source": [
        "# 📘 03 - Python Dictionaries\n",
        "\n",
        "Dictionaries store key-value pairs for fast lookups."
      ]
    },
    {
      "cell_type": "markdown",
      "id": "32ad5c23",
      "metadata": {
        "id": "32ad5c23"
      },
      "source": [
        "## ✅ Learning Goals\n",
        "- Create and access dictionary items\n",
        "- Use dictionary methods like `.get()` and `.items()`"
      ]
    },
    {
      "cell_type": "code",
      "execution_count": null,
      "id": "d69a5483",
      "metadata": {
        "id": "d69a5483",
        "outputId": "cc644b34-fe06-461f-e981-e3d63cd29bc9",
        "colab": {
          "base_uri": "https://localhost:8080/"
        }
      },
      "outputs": [
        {
          "output_type": "stream",
          "name": "stdout",
          "text": [
            "{'name': 'Alex', 'age': 21, 'major': 'CS'}\n"
          ]
        }
      ],
      "source": [
        "# 📚 Create a Dictionary\n",
        "student = {'name': 'Alex', 'age': 21, 'major': 'CS'}\n",
        "print(student)"
      ]
    },
    {
      "cell_type": "code",
      "execution_count": null,
      "id": "c014213d",
      "metadata": {
        "id": "c014213d",
        "outputId": "743751cb-78b1-4cff-b493-c2828f3cec9f",
        "colab": {
          "base_uri": "https://localhost:8080/"
        }
      },
      "outputs": [
        {
          "output_type": "stream",
          "name": "stdout",
          "text": [
            "Alex\n",
            "N/A\n"
          ]
        }
      ],
      "source": [
        "# 🔍 Access Values\n",
        "print(student['name'])\n",
        "print(student.get('gpa', 'N/A'))"
      ]
    },
    {
      "cell_type": "code",
      "execution_count": null,
      "id": "f80fb0b2",
      "metadata": {
        "id": "f80fb0b2",
        "outputId": "2f6e2d0d-0fe7-4178-9a4c-f249ec165954",
        "colab": {
          "base_uri": "https://localhost:8080/"
        }
      },
      "outputs": [
        {
          "output_type": "stream",
          "name": "stdout",
          "text": [
            "name -> Alex\n",
            "age -> 21\n",
            "major -> CS\n"
          ]
        }
      ],
      "source": [
        "# 🔁 Loop Over Dictionary\n",
        "for key, value in student.items():\n",
        "    print(key, '->', value)"
      ]
    },
    {
      "cell_type": "markdown",
      "id": "aa0e1c66",
      "metadata": {
        "id": "aa0e1c66"
      },
      "source": [
        "## ✏️ Your Turn\n",
        "Create a dictionary to store information about your favorite book."
      ]
    },
    {
      "cell_type": "code",
      "source": [
        "book = {'Title' : 'The Catcher in the Rye', 'Author' : 'J.D. Salinger', 'Year published' : 1951, 'Genre' : 'Fiction'}\n",
        "print(book)"
      ],
      "metadata": {
        "id": "0KhLdBmUCmuR",
        "outputId": "517c4ef4-281f-406b-d506-c4b6057d3e8b",
        "colab": {
          "base_uri": "https://localhost:8080/"
        }
      },
      "id": "0KhLdBmUCmuR",
      "execution_count": null,
      "outputs": [
        {
          "output_type": "stream",
          "name": "stdout",
          "text": [
            "{'Title': 'The Catcher in the Rye', 'Author': 'J.D. Salinger', 'Year published': 1951, 'Genre': 'Fiction'}\n"
          ]
        }
      ]
    },
    {
      "cell_type": "code",
      "source": [
        "print(book['Genre'])\n",
        "print(book.get('Title', 'I dont exist'))\n",
        "print(book.get('Cover', 'I dont exist'))"
      ],
      "metadata": {
        "id": "G4oIxbPqDes2",
        "outputId": "01f0a5bb-e1aa-441a-9baf-672bc14215f9",
        "colab": {
          "base_uri": "https://localhost:8080/"
        }
      },
      "id": "G4oIxbPqDes2",
      "execution_count": null,
      "outputs": [
        {
          "output_type": "stream",
          "name": "stdout",
          "text": [
            "Fiction\n",
            "The Catcher in the Rye\n",
            "I dont exist\n"
          ]
        }
      ]
    },
    {
      "cell_type": "code",
      "source": [
        "for item in book.items():\n",
        "  print(item)"
      ],
      "metadata": {
        "id": "jY7sHePbEn9j",
        "outputId": "e77cdac4-3b49-407f-da7a-4a18237a622d",
        "colab": {
          "base_uri": "https://localhost:8080/"
        }
      },
      "id": "jY7sHePbEn9j",
      "execution_count": null,
      "outputs": [
        {
          "output_type": "stream",
          "name": "stdout",
          "text": [
            "('Title', 'The Catcher in the Rye')\n",
            "('Author', 'J.D. Salinger')\n",
            "('Year published', 1951)\n",
            "('Genre', 'Fiction')\n"
          ]
        }
      ]
    }
  ],
  "metadata": {
    "colab": {
      "provenance": [],
      "include_colab_link": true
    },
    "language_info": {
      "name": "python"
    },
    "kernelspec": {
      "name": "python3",
      "display_name": "Python 3"
    }
  },
  "nbformat": 4,
  "nbformat_minor": 5
}