{
  "cells": [
    {
      "cell_type": "markdown",
      "metadata": {
        "id": "view-in-github",
        "colab_type": "text"
      },
      "source": [
        "<a href=\"https://colab.research.google.com/github/jrpickens/data-science-notebooks/blob/main/James_Pickens_Data_Types_and_Arithmetic.ipynb\" target=\"_parent\"><img src=\"https://colab.research.google.com/assets/colab-badge.svg\" alt=\"Open In Colab\"/></a>"
      ]
    },
    {
      "cell_type": "markdown",
      "source": [
        "James Pickens"
      ],
      "metadata": {
        "id": "wn9kiHJg9EGh"
      },
      "id": "wn9kiHJg9EGh"
    },
    {
      "cell_type": "markdown",
      "id": "4b15b08b",
      "metadata": {
        "id": "4b15b08b"
      },
      "source": [
        "# 📘 03 - Data Types and Arithmetic\n",
        "\n",
        "Explore Python basics like variables, data types, and arithmetic operations."
      ]
    },
    {
      "cell_type": "markdown",
      "id": "fe930277",
      "metadata": {
        "id": "fe930277"
      },
      "source": [
        "## ✅ Learning Goals\n",
        "- Understand Python data types\n",
        "- Use variables and print statements\n",
        "- Perform basic arithmetic"
      ]
    },
    {
      "cell_type": "code",
      "execution_count": null,
      "id": "8e873f5b",
      "metadata": {
        "id": "8e873f5b",
        "outputId": "80413c28-c0ce-413f-a699-b076813e4bf1",
        "colab": {
          "base_uri": "https://localhost:8080/"
        }
      },
      "outputs": [
        {
          "output_type": "stream",
          "name": "stdout",
          "text": [
            "<class 'int'> <class 'float'> <class 'str'>\n"
          ]
        }
      ],
      "source": [
        "# 🧠 Variables and Types\n",
        "x = 10\n",
        "y = 3.5\n",
        "z = 'hello'\n",
        "print(type(x), type(y), type(z))"
      ]
    },
    {
      "cell_type": "code",
      "execution_count": null,
      "id": "e90e2be4",
      "metadata": {
        "id": "e90e2be4",
        "outputId": "4d27724e-9e7a-4dd1-f889-4afaf6d0f801",
        "colab": {
          "base_uri": "https://localhost:8080/"
        }
      },
      "outputs": [
        {
          "output_type": "stream",
          "name": "stdout",
          "text": [
            "Add: 13.5\n",
            "Divide: 2.857142857142857\n",
            "Floor Divide: 2.0\n",
            "Exponent: 100\n"
          ]
        }
      ],
      "source": [
        "# ➕ Arithmetic Operations\n",
        "print('Add:', x + y)\n",
        "print('Divide:', x / y)\n",
        "print('Floor Divide:', x // y)\n",
        "print('Exponent:', x ** 2)"
      ]
    },
    {
      "cell_type": "markdown",
      "id": "7e233e07",
      "metadata": {
        "id": "7e233e07"
      },
      "source": [
        "## ✏️ Try It Yourself\n",
        "- Create your own variables\n",
        "- Try combining numbers and strings\n",
        "- Use `input()` to interact"
      ]
    },
    {
      "cell_type": "code",
      "execution_count": null,
      "id": "42b3fc61",
      "metadata": {
        "id": "42b3fc61",
        "outputId": "6913b6e4-1cdd-48b8-e532-e6e5533e5660",
        "colab": {
          "base_uri": "https://localhost:8080/"
        }
      },
      "outputs": [
        {
          "output_type": "stream",
          "name": "stdout",
          "text": [
            "What is your name? James Pickens\n",
            "Welcome, James Pickens\n"
          ]
        }
      ],
      "source": [
        "# Your code here\n",
        "name = input('What is your name? ')\n",
        "print('Welcome,', name)"
      ]
    },
    {
      "cell_type": "code",
      "source": [
        "# Combing numbers and strings\n",
        "word = input('Enter any word you can think of: ')\n",
        "num = input('Give me a number:')"
      ],
      "metadata": {
        "id": "-BnYcKJ-7nHA",
        "outputId": "9994e57e-70a3-45b3-beac-2c3488954618",
        "colab": {
          "base_uri": "https://localhost:8080/"
        }
      },
      "id": "-BnYcKJ-7nHA",
      "execution_count": null,
      "outputs": [
        {
          "name": "stdout",
          "output_type": "stream",
          "text": [
            "Enter any word you can think of: Drink\n",
            "Give me a number:78\n"
          ]
        }
      ]
    },
    {
      "cell_type": "code",
      "source": [
        "print('Trying to literally combine the two.', word + num)\n",
        "print('In an actual sentence. You have to write', word, num, 'times, that does not sound fun...')"
      ],
      "metadata": {
        "id": "gLjM2uKg9QHB",
        "outputId": "06a832be-6a61-403a-a870-8620afd7e584",
        "colab": {
          "base_uri": "https://localhost:8080/"
        }
      },
      "id": "gLjM2uKg9QHB",
      "execution_count": null,
      "outputs": [
        {
          "output_type": "stream",
          "name": "stdout",
          "text": [
            "Trying to literally combine the two. Drink78\n",
            "In an actual sentence. You have to write Drink 78 times, that does not sound fun...\n"
          ]
        }
      ]
    },
    {
      "cell_type": "markdown",
      "id": "069d6eba",
      "metadata": {
        "id": "069d6eba"
      },
      "source": [
        "## 📤 Submit\n",
        "Make sure your name is at the top in a Markdown cell.\n",
        "Submit via D2L or Colab link."
      ]
    }
  ],
  "metadata": {
    "colab": {
      "provenance": [],
      "include_colab_link": true
    },
    "language_info": {
      "name": "python"
    },
    "kernelspec": {
      "name": "python3",
      "display_name": "Python 3"
    }
  },
  "nbformat": 4,
  "nbformat_minor": 5
}