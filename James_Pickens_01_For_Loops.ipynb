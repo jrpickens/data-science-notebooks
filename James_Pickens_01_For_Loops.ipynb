{
  "cells": [
    {
      "cell_type": "markdown",
      "metadata": {
        "id": "view-in-github",
        "colab_type": "text"
      },
      "source": [
        "<a href=\"https://colab.research.google.com/github/jrpickens/data-science-notebooks/blob/main/James_Pickens_01_For_Loops.ipynb\" target=\"_parent\"><img src=\"https://colab.research.google.com/assets/colab-badge.svg\" alt=\"Open In Colab\"/></a>"
      ]
    },
    {
      "cell_type": "markdown",
      "source": [
        "James Pickens"
      ],
      "metadata": {
        "id": "7yPMvJvfk-zc"
      },
      "id": "7yPMvJvfk-zc"
    },
    {
      "cell_type": "markdown",
      "id": "813b2cf5",
      "metadata": {
        "id": "813b2cf5"
      },
      "source": [
        "# 📘 01 - For Loops\n",
        "\n",
        "Learn how to use `for` loops to iterate over sequences."
      ]
    },
    {
      "cell_type": "markdown",
      "id": "f6afd4b0",
      "metadata": {
        "id": "f6afd4b0"
      },
      "source": [
        "## ✅ Learning Goals\n",
        "- Use `for` with lists, strings, and `range()`\n",
        "- Understand loop variables and block structure"
      ]
    },
    {
      "cell_type": "code",
      "execution_count": null,
      "id": "16d9ab8e",
      "metadata": {
        "id": "16d9ab8e",
        "outputId": "de11d6aa-3e4c-4778-ecca-553401024849",
        "colab": {
          "base_uri": "https://localhost:8080/"
        }
      },
      "outputs": [
        {
          "output_type": "stream",
          "name": "stdout",
          "text": [
            "apple\n",
            "banana\n",
            "cherry\n"
          ]
        }
      ],
      "source": [
        "# 🔁 Loop over a list\n",
        "fruits = ['apple', 'banana', 'cherry']\n",
        "for fruit in fruits:\n",
        "    print(fruit)"
      ]
    },
    {
      "cell_type": "code",
      "execution_count": null,
      "id": "141bbd6b",
      "metadata": {
        "id": "141bbd6b",
        "outputId": "440cd918-a109-47a0-85e9-5e3ff0c81c0d",
        "colab": {
          "base_uri": "https://localhost:8080/"
        }
      },
      "outputs": [
        {
          "output_type": "stream",
          "name": "stdout",
          "text": [
            "h\n",
            "e\n",
            "l\n",
            "l\n",
            "o\n"
          ]
        }
      ],
      "source": [
        "# 🔁 Loop over characters in a string\n",
        "word = 'hello'\n",
        "for char in word:\n",
        "    print(char)"
      ]
    },
    {
      "cell_type": "code",
      "execution_count": null,
      "id": "76012a44",
      "metadata": {
        "id": "76012a44",
        "outputId": "59c3bbd1-a568-415c-c0c4-53c9bd70104c",
        "colab": {
          "base_uri": "https://localhost:8080/"
        }
      },
      "outputs": [
        {
          "output_type": "stream",
          "name": "stdout",
          "text": [
            "0\n",
            "1\n",
            "2\n",
            "3\n",
            "4\n"
          ]
        }
      ],
      "source": [
        "# 🔁 Using range()\n",
        "for i in range(5):\n",
        "    print(i)"
      ]
    },
    {
      "cell_type": "code",
      "execution_count": null,
      "id": "43070de7",
      "metadata": {
        "id": "43070de7",
        "outputId": "fc01dd39-74d9-4d07-c580-e7c894b7d8cd",
        "colab": {
          "base_uri": "https://localhost:8080/"
        }
      },
      "outputs": [
        {
          "output_type": "stream",
          "name": "stdout",
          "text": [
            "1 squared is 1\n",
            "2 squared is 4\n",
            "3 squared is 9\n",
            "4 squared is 16\n",
            "5 squared is 25\n"
          ]
        }
      ],
      "source": [
        "# ➕ Loop with math\n",
        "for i in range(1, 6):\n",
        "    print(f'{i} squared is', i ** 2)"
      ]
    },
    {
      "cell_type": "markdown",
      "id": "7f3e0f91",
      "metadata": {
        "id": "7f3e0f91"
      },
      "source": [
        "### ✏️ Your Turn\n",
        "Loop over a list of 3 favorite movies and print them in all caps."
      ]
    },
    {
      "cell_type": "code",
      "source": [
        "movies = ['HTTYD', 'THE MARTIAN', 'INTERSTELLAR']\n",
        "for m in movies:\n",
        "  print(m)"
      ],
      "metadata": {
        "id": "QqpC_rVekG0X",
        "outputId": "c44590ee-6c15-44f8-b540-0e8d4ad926b0",
        "colab": {
          "base_uri": "https://localhost:8080/"
        }
      },
      "id": "QqpC_rVekG0X",
      "execution_count": null,
      "outputs": [
        {
          "output_type": "stream",
          "name": "stdout",
          "text": [
            "HTTYD\n",
            "THE MARTIAN\n",
            "INTERSTELLAR\n"
          ]
        }
      ]
    }
  ],
  "metadata": {
    "colab": {
      "provenance": [],
      "include_colab_link": true
    },
    "language_info": {
      "name": "python"
    },
    "kernelspec": {
      "name": "python3",
      "display_name": "Python 3"
    }
  },
  "nbformat": 4,
  "nbformat_minor": 5
}